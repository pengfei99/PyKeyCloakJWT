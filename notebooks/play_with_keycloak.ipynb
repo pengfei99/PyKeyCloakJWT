{
 "cells": [
  {
   "cell_type": "markdown",
   "metadata": {
    "collapsed": true,
    "pycharm": {
     "name": "#%% md\n"
    }
   },
   "source": [
    "# Play with keycloak\n",
    "\n",
    "We will use `python-keycloak-client` to play with keycloak. Make sure you have created a **REALM** and **Client** in Keycloak.\n",
    "If you don't know how, please check this [doc](../docs/Install_keycloak.md).\n"
   ]
  },
  {
   "cell_type": "markdown",
   "source": [
    "## Step1. Create a keycloak oidc client\n",
    "\n",
    "To create a keycloak oidc client, you need to know\n",
    "- url of the keycloak server\n",
    "- the name of the realm\n",
    "- client id\n",
    "- client secret key"
   ],
   "metadata": {
    "collapsed": false,
    "pycharm": {
     "name": "#%% md\n"
    }
   }
  },
  {
   "cell_type": "code",
   "execution_count": 1,
   "outputs": [],
   "source": [
    "from keycloak import KeycloakOpenID"
   ],
   "metadata": {
    "collapsed": false,
    "pycharm": {
     "name": "#%%\n"
    }
   }
  },
  {
   "cell_type": "code",
   "execution_count": 2,
   "outputs": [],
   "source": [
    "url = \"http://localhost:8080\"\n",
    "my_realm_name = \"pengfei-test\"\n",
    "client_id = \"pengfei-dv-app\"\n",
    "client_secret = \"8BJOcHtXlXpKVLGFOjGoAJ4nxo1WyNKT\""
   ],
   "metadata": {
    "collapsed": false,
    "pycharm": {
     "name": "#%%\n"
    }
   }
  },
  {
   "cell_type": "code",
   "execution_count": 3,
   "outputs": [],
   "source": [
    "oidc_client = KeycloakOpenID(server_url=url, realm_name=my_realm_name, client_id=client_id,\n",
    "                             client_secret_key=client_secret)"
   ],
   "metadata": {
    "collapsed": false,
    "pycharm": {
     "name": "#%%\n"
    }
   }
  },
  {
   "cell_type": "markdown",
   "source": [
    "## Step2. Get a token for a given user"
   ],
   "metadata": {
    "collapsed": false,
    "pycharm": {
     "name": "#%% md\n"
    }
   }
  },
  {
   "cell_type": "code",
   "execution_count": 4,
   "outputs": [],
   "source": [
    "user_name = \"pengfei\"\n",
    "user_secret = \"toto\""
   ],
   "metadata": {
    "collapsed": false,
    "pycharm": {
     "name": "#%%\n"
    }
   }
  },
  {
   "cell_type": "code",
   "execution_count": 5,
   "outputs": [
    {
     "name": "stdout",
     "output_type": "stream",
     "text": [
      "{'access_token': 'eyJhbGciOiJSUzI1NiIsInR5cCIgOiAiSldUIiwia2lkIiA6ICJvYjE2ZW9kOEZZeFVqOFdUaXRid295c09PSC11MDF1VVBwZGdPUVBWLXJzIn0.eyJleHAiOjE2NTI2OTEzMzEsImlhdCI6MTY1MjY5MDczMSwianRpIjoiNTAwMDdmNzctMmNiZi00ZmFiLTgzZTctYzJiMTY3NDYxNzFlIiwiaXNzIjoiaHR0cDovL2xvY2FsaG9zdDo4MDgwL3JlYWxtcy9wZW5nZmVpLXRlc3QiLCJhdWQiOiJhY2NvdW50Iiwic3ViIjoiNWE1ZjYxMTktMDY5YS00NDk3LWFkMWItMWZjMDNiNDVjMjcyIiwidHlwIjoiQmVhcmVyIiwiYXpwIjoicGVuZ2ZlaS1kdi1hcHAiLCJzZXNzaW9uX3N0YXRlIjoiOWQ4YzMzNmItYTI5Ni00MzU4LWE3NjYtOTg1NTEwNzAzODRiIiwiYWNyIjoiMSIsImFsbG93ZWQtb3JpZ2lucyI6WyJodHRwczovL2xvY2FsaG9zdDo4ODg4Il0sInJlYWxtX2FjY2VzcyI6eyJyb2xlcyI6WyJvZmZsaW5lX2FjY2VzcyIsInVtYV9hdXRob3JpemF0aW9uIiwiZGVmYXVsdC1yb2xlcy1wZW5nZmVpLXRlc3QiXX0sInJlc291cmNlX2FjY2VzcyI6eyJhY2NvdW50Ijp7InJvbGVzIjpbIm1hbmFnZS1hY2NvdW50IiwibWFuYWdlLWFjY291bnQtbGlua3MiLCJ2aWV3LXByb2ZpbGUiXX19LCJzY29wZSI6ImVtYWlsIHByb2ZpbGUiLCJzaWQiOiI5ZDhjMzM2Yi1hMjk2LTQzNTgtYTc2Ni05ODU1MTA3MDM4NGIiLCJlbWFpbF92ZXJpZmllZCI6ZmFsc2UsIm5hbWUiOiJwZW5nZmVpIGxpdSIsInByZWZlcnJlZF91c2VybmFtZSI6InBlbmdmZWkiLCJnaXZlbl9uYW1lIjoicGVuZ2ZlaSIsImZhbWlseV9uYW1lIjoibGl1In0.cI--m72lvmMnS1QJ5PzEfHcKVkIvNJGzhk3r7ljSQmLjvQUnIJsojlyKUG2MWRR8nM1Vi20ChrHMq-ZmbFDTe4E7MjSH-rvtn-zPrtATUAZ_YKLhd2ZI9dml7QUvT0cJ3k3oZETDAgbSNua2YXdskcvqYnknUB-kxvnrDrWVZ1CqQvPoquKKeUPad50s3N3z7jUKzQWBUQX96H_M3S9n7MdP3CYq4KA9-BYHLNuXLLc10oQXx326wBZSwkXEHXHy7keXSA0G2bLfZGAGioTTCOKRDHwlQLm1q0omgnO_MEBHry59JBcaw-b-d3CbhsnELlZBgjPcQbCbBCwaOyOY3w', 'expires_in': 600, 'refresh_expires_in': 1800, 'refresh_token': 'eyJhbGciOiJIUzI1NiIsInR5cCIgOiAiSldUIiwia2lkIiA6ICJkNmQ5ZjFmNi1mYzY1LTRlZjktYTA4Yi1lYTA3ZDJlN2FiMDAifQ.eyJleHAiOjE2NTI2OTI1MzEsImlhdCI6MTY1MjY5MDczMSwianRpIjoiNjllNWNkMjktODAzYi00ZmViLTljYjMtZDYwOTY1MzM0MmEwIiwiaXNzIjoiaHR0cDovL2xvY2FsaG9zdDo4MDgwL3JlYWxtcy9wZW5nZmVpLXRlc3QiLCJhdWQiOiJodHRwOi8vbG9jYWxob3N0OjgwODAvcmVhbG1zL3BlbmdmZWktdGVzdCIsInN1YiI6IjVhNWY2MTE5LTA2OWEtNDQ5Ny1hZDFiLTFmYzAzYjQ1YzI3MiIsInR5cCI6IlJlZnJlc2giLCJhenAiOiJwZW5nZmVpLWR2LWFwcCIsInNlc3Npb25fc3RhdGUiOiI5ZDhjMzM2Yi1hMjk2LTQzNTgtYTc2Ni05ODU1MTA3MDM4NGIiLCJzY29wZSI6ImVtYWlsIHByb2ZpbGUiLCJzaWQiOiI5ZDhjMzM2Yi1hMjk2LTQzNTgtYTc2Ni05ODU1MTA3MDM4NGIifQ.EZz3AA1pvCeqD9Dv2_XTWJAgWyL_Jhw0Cp7f7Z664V0', 'token_type': 'Bearer', 'not-before-policy': 0, 'session_state': '9d8c336b-a296-4358-a766-98551070384b', 'scope': 'email profile'}\n"
     ]
    }
   ],
   "source": [
    "token = oidc_client.token(user_name, user_secret)\n",
    "print(token)"
   ],
   "metadata": {
    "collapsed": false,
    "pycharm": {
     "name": "#%%\n"
    }
   }
  },
  {
   "cell_type": "markdown",
   "source": [
    "## Step3. Get access token\n",
    "\n",
    "You can notice that the token has many infomation, and it allows you to renew your access token. The user information is located in the access token. We can get the token.\n",
    "\n",
    "Let's first use the built-in parser to view the access token"
   ],
   "metadata": {
    "collapsed": false,
    "pycharm": {
     "name": "#%% md\n"
    }
   }
  },
  {
   "cell_type": "code",
   "execution_count": 8,
   "outputs": [],
   "source": [
    "access_token = token['access_token']"
   ],
   "metadata": {
    "collapsed": false,
    "pycharm": {
     "name": "#%%\n"
    }
   }
  },
  {
   "cell_type": "code",
   "execution_count": 9,
   "outputs": [],
   "source": [
    "userinfo = oidc_client.userinfo(access_token)"
   ],
   "metadata": {
    "collapsed": false,
    "pycharm": {
     "name": "#%%\n"
    }
   }
  },
  {
   "cell_type": "code",
   "execution_count": 10,
   "outputs": [
    {
     "name": "stdout",
     "output_type": "stream",
     "text": [
      "{'sub': '5a5f6119-069a-4497-ad1b-1fc03b45c272', 'email_verified': False, 'name': 'pengfei liu', 'preferred_username': 'pengfei', 'given_name': 'pengfei', 'family_name': 'liu'}\n"
     ]
    }
   ],
   "source": [
    "print(userinfo)"
   ],
   "metadata": {
    "collapsed": false,
    "pycharm": {
     "name": "#%%\n"
    }
   }
  },
  {
   "cell_type": "markdown",
   "source": [
    "You can notice we don't have full information about the user. Let's parse the token with our own parser"
   ],
   "metadata": {
    "collapsed": false,
    "pycharm": {
     "name": "#%% md\n"
    }
   }
  },
  {
   "cell_type": "code",
   "execution_count": 11,
   "outputs": [],
   "source": [
    "from src.JWTTokenValidator import JWTTokenValidator"
   ],
   "metadata": {
    "collapsed": false,
    "pycharm": {
     "name": "#%%\n"
    }
   }
  },
  {
   "cell_type": "code",
   "execution_count": 12,
   "outputs": [],
   "source": [
    "token_validator=JWTTokenValidator()\n",
    "user_info=token_validator.get_invalid_token_payload(access_token)"
   ],
   "metadata": {
    "collapsed": false,
    "pycharm": {
     "name": "#%%\n"
    }
   }
  },
  {
   "cell_type": "code",
   "execution_count": 13,
   "outputs": [
    {
     "name": "stdout",
     "output_type": "stream",
     "text": [
      "{'exp': 1652691331, 'iat': 1652690731, 'jti': '50007f77-2cbf-4fab-83e7-c2b16746171e', 'iss': 'http://localhost:8080/realms/pengfei-test', 'aud': 'account', 'sub': '5a5f6119-069a-4497-ad1b-1fc03b45c272', 'typ': 'Bearer', 'azp': 'pengfei-dv-app', 'session_state': '9d8c336b-a296-4358-a766-98551070384b', 'acr': '1', 'allowed-origins': ['https://localhost:8888'], 'realm_access': {'roles': ['offline_access', 'uma_authorization', 'default-roles-pengfei-test']}, 'resource_access': {'account': {'roles': ['manage-account', 'manage-account-links', 'view-profile']}}, 'scope': 'email profile', 'sid': '9d8c336b-a296-4358-a766-98551070384b', 'email_verified': False, 'name': 'pengfei liu', 'preferred_username': 'pengfei', 'given_name': 'pengfei', 'family_name': 'liu'}\n"
     ]
    }
   ],
   "source": [
    "print(user_info)"
   ],
   "metadata": {
    "collapsed": false,
    "pycharm": {
     "name": "#%%\n"
    }
   }
  },
  {
   "cell_type": "code",
   "execution_count": null,
   "outputs": [],
   "source": [],
   "metadata": {
    "collapsed": false,
    "pycharm": {
     "name": "#%%\n"
    }
   }
  }
 ],
 "metadata": {
  "kernelspec": {
   "display_name": "Python 3",
   "language": "python",
   "name": "python3"
  },
  "language_info": {
   "codemirror_mode": {
    "name": "ipython",
    "version": 2
   },
   "file_extension": ".py",
   "mimetype": "text/x-python",
   "name": "python",
   "nbconvert_exporter": "python",
   "pygments_lexer": "ipython2",
   "version": "2.7.6"
  }
 },
 "nbformat": 4,
 "nbformat_minor": 0
}